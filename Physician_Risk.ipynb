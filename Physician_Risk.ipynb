{
 "cells": [
  {
   "cell_type": "code",
   "execution_count": 156,
   "metadata": {},
   "outputs": [],
   "source": [
    "from __future__ import division\n",
    "import numpy as np\n",
    "import pandas as pd\n",
    "from sklearn.decomposition import PCA\n",
    "import matplotlib.pyplot as plt\n",
    "import seaborn as sns\n",
    "from scipy import stats\n",
    "import tensorflow as tf\n",
    "from pylab import rcParams\n",
    "from sklearn.model_selection import train_test_split\n",
    "from keras.models import Model, load_model\n",
    "from keras.layers import Input, Dense\n",
    "from keras.callbacks import ModelCheckpoint, TensorBoard\n",
    "from keras import regularizers\n",
    "from sklearn.preprocessing import MinMaxScaler"
   ]
  },
  {
   "cell_type": "code",
   "execution_count": 157,
   "metadata": {
    "collapsed": true
   },
   "outputs": [],
   "source": [
    "X_train = pd.read_csv('Data/X_train.csv').set_index('Doctor Identifier')\n",
    "provider2num = {}\n",
    "ctr = 0\n",
    "for provider in list(set(X_train['Provider Type'])):\n",
    "    provider2num[provider] = ctr\n",
    "    ctr += 1\n",
    "X_train['Provider Type'] = [provider2num[d] for d in X_train['Provider Type']]"
   ]
  },
  {
   "cell_type": "code",
   "execution_count": 158,
   "metadata": {},
   "outputs": [
    {
     "name": "stdout",
     "output_type": "stream",
     "text": [
      "(18000, 30)\n"
     ]
    },
    {
     "data": {
      "text/html": [
       "<div>\n",
       "<style>\n",
       "    .dataframe thead tr:only-child th {\n",
       "        text-align: right;\n",
       "    }\n",
       "\n",
       "    .dataframe thead th {\n",
       "        text-align: left;\n",
       "    }\n",
       "\n",
       "    .dataframe tbody tr th {\n",
       "        vertical-align: top;\n",
       "    }\n",
       "</style>\n",
       "<table border=\"1\" class=\"dataframe\">\n",
       "  <thead>\n",
       "    <tr style=\"text-align: right;\">\n",
       "      <th></th>\n",
       "      <th>Provider Type</th>\n",
       "      <th>Number of Services</th>\n",
       "      <th>Number of Beneficiaries</th>\n",
       "      <th>Total Submitted Charge Amount</th>\n",
       "      <th>Total Allowed Amount</th>\n",
       "      <th>Total Payment Amount</th>\n",
       "      <th>Total Standardized Payment Amount</th>\n",
       "      <th>Number of Drug Services</th>\n",
       "      <th>Total Drug Submitted Charge Amount</th>\n",
       "      <th>Total Drug Allowed Amount</th>\n",
       "      <th>...</th>\n",
       "      <th>Percent Depression</th>\n",
       "      <th>Percent Diabetes</th>\n",
       "      <th>Percent Hyperlipidemia</th>\n",
       "      <th>Percent Hypertension</th>\n",
       "      <th>Percent Ischemic Heart Disease</th>\n",
       "      <th>Percent Osteoporosis</th>\n",
       "      <th>Percent Rheumatoid Arthritis or Osteoarthritis</th>\n",
       "      <th>Percent Schizophrenia or Other Psychotic Disorders</th>\n",
       "      <th>Percent Stroke</th>\n",
       "      <th>Average HCC Risk Score of Beneficiaries</th>\n",
       "    </tr>\n",
       "    <tr>\n",
       "      <th>Doctor Identifier</th>\n",
       "      <th></th>\n",
       "      <th></th>\n",
       "      <th></th>\n",
       "      <th></th>\n",
       "      <th></th>\n",
       "      <th></th>\n",
       "      <th></th>\n",
       "      <th></th>\n",
       "      <th></th>\n",
       "      <th></th>\n",
       "      <th></th>\n",
       "      <th></th>\n",
       "      <th></th>\n",
       "      <th></th>\n",
       "      <th></th>\n",
       "      <th></th>\n",
       "      <th></th>\n",
       "      <th></th>\n",
       "      <th></th>\n",
       "      <th></th>\n",
       "      <th></th>\n",
       "    </tr>\n",
       "  </thead>\n",
       "  <tbody>\n",
       "    <tr>\n",
       "      <th>450181093</th>\n",
       "      <td>22</td>\n",
       "      <td>491</td>\n",
       "      <td>66</td>\n",
       "      <td>52550.00</td>\n",
       "      <td>45827.70</td>\n",
       "      <td>34211.71</td>\n",
       "      <td>32460.86</td>\n",
       "      <td>0</td>\n",
       "      <td>0.00</td>\n",
       "      <td>0.00</td>\n",
       "      <td>...</td>\n",
       "      <td>75.0</td>\n",
       "      <td>18.00</td>\n",
       "      <td>41.0</td>\n",
       "      <td>50.0</td>\n",
       "      <td>3.11</td>\n",
       "      <td>0.83</td>\n",
       "      <td>23.0</td>\n",
       "      <td>18.00</td>\n",
       "      <td>0.65</td>\n",
       "      <td>1.28</td>\n",
       "    </tr>\n",
       "    <tr>\n",
       "      <th>375128823</th>\n",
       "      <td>67</td>\n",
       "      <td>3883</td>\n",
       "      <td>211</td>\n",
       "      <td>165408.00</td>\n",
       "      <td>84216.16</td>\n",
       "      <td>62257.97</td>\n",
       "      <td>62267.51</td>\n",
       "      <td>3304</td>\n",
       "      <td>28918.00</td>\n",
       "      <td>18847.34</td>\n",
       "      <td>...</td>\n",
       "      <td>42.0</td>\n",
       "      <td>24.00</td>\n",
       "      <td>48.0</td>\n",
       "      <td>56.0</td>\n",
       "      <td>22.00</td>\n",
       "      <td>9.00</td>\n",
       "      <td>38.0</td>\n",
       "      <td>7.00</td>\n",
       "      <td>10.00</td>\n",
       "      <td>1.52</td>\n",
       "    </tr>\n",
       "    <tr>\n",
       "      <th>429379427</th>\n",
       "      <td>12</td>\n",
       "      <td>3103</td>\n",
       "      <td>632</td>\n",
       "      <td>531584.25</td>\n",
       "      <td>230479.28</td>\n",
       "      <td>174262.00</td>\n",
       "      <td>167305.78</td>\n",
       "      <td>1016</td>\n",
       "      <td>32044.25</td>\n",
       "      <td>22049.04</td>\n",
       "      <td>...</td>\n",
       "      <td>24.0</td>\n",
       "      <td>19.00</td>\n",
       "      <td>44.0</td>\n",
       "      <td>57.0</td>\n",
       "      <td>25.00</td>\n",
       "      <td>12.00</td>\n",
       "      <td>67.0</td>\n",
       "      <td>4.00</td>\n",
       "      <td>7.00</td>\n",
       "      <td>1.11</td>\n",
       "    </tr>\n",
       "    <tr>\n",
       "      <th>993555030</th>\n",
       "      <td>63</td>\n",
       "      <td>43</td>\n",
       "      <td>42</td>\n",
       "      <td>2935.00</td>\n",
       "      <td>2932.84</td>\n",
       "      <td>1652.31</td>\n",
       "      <td>4208.75</td>\n",
       "      <td>0</td>\n",
       "      <td>0.00</td>\n",
       "      <td>0.00</td>\n",
       "      <td>...</td>\n",
       "      <td>31.0</td>\n",
       "      <td>0.89</td>\n",
       "      <td>62.0</td>\n",
       "      <td>57.0</td>\n",
       "      <td>36.00</td>\n",
       "      <td>0.27</td>\n",
       "      <td>38.0</td>\n",
       "      <td>0.44</td>\n",
       "      <td>0.25</td>\n",
       "      <td>1.00</td>\n",
       "    </tr>\n",
       "    <tr>\n",
       "      <th>786413532</th>\n",
       "      <td>23</td>\n",
       "      <td>151</td>\n",
       "      <td>34</td>\n",
       "      <td>13118.00</td>\n",
       "      <td>3991.45</td>\n",
       "      <td>3911.61</td>\n",
       "      <td>3402.45</td>\n",
       "      <td>0</td>\n",
       "      <td>0.00</td>\n",
       "      <td>0.00</td>\n",
       "      <td>...</td>\n",
       "      <td>56.0</td>\n",
       "      <td>75.00</td>\n",
       "      <td>75.0</td>\n",
       "      <td>75.0</td>\n",
       "      <td>41.00</td>\n",
       "      <td>0.05</td>\n",
       "      <td>56.0</td>\n",
       "      <td>0.00</td>\n",
       "      <td>0.03</td>\n",
       "      <td>1.57</td>\n",
       "    </tr>\n",
       "  </tbody>\n",
       "</table>\n",
       "<p>5 rows × 30 columns</p>\n",
       "</div>"
      ],
      "text/plain": [
       "                   Provider Type  Number of Services  Number of Beneficiaries  \\\n",
       "Doctor Identifier                                                               \n",
       "450181093                     22                 491                       66   \n",
       "375128823                     67                3883                      211   \n",
       "429379427                     12                3103                      632   \n",
       "993555030                     63                  43                       42   \n",
       "786413532                     23                 151                       34   \n",
       "\n",
       "                   Total Submitted Charge Amount  Total Allowed Amount  \\\n",
       "Doctor Identifier                                                        \n",
       "450181093                               52550.00              45827.70   \n",
       "375128823                              165408.00              84216.16   \n",
       "429379427                              531584.25             230479.28   \n",
       "993555030                                2935.00               2932.84   \n",
       "786413532                               13118.00               3991.45   \n",
       "\n",
       "                   Total Payment Amount  Total Standardized Payment Amount  \\\n",
       "Doctor Identifier                                                            \n",
       "450181093                      34211.71                           32460.86   \n",
       "375128823                      62257.97                           62267.51   \n",
       "429379427                     174262.00                          167305.78   \n",
       "993555030                       1652.31                            4208.75   \n",
       "786413532                       3911.61                            3402.45   \n",
       "\n",
       "                   Number of Drug Services  \\\n",
       "Doctor Identifier                            \n",
       "450181093                                0   \n",
       "375128823                             3304   \n",
       "429379427                             1016   \n",
       "993555030                                0   \n",
       "786413532                                0   \n",
       "\n",
       "                   Total Drug Submitted Charge Amount  \\\n",
       "Doctor Identifier                                       \n",
       "450181093                                        0.00   \n",
       "375128823                                    28918.00   \n",
       "429379427                                    32044.25   \n",
       "993555030                                        0.00   \n",
       "786413532                                        0.00   \n",
       "\n",
       "                   Total Drug Allowed Amount   \\\n",
       "Doctor Identifier                               \n",
       "450181093                                0.00   \n",
       "375128823                            18847.34   \n",
       "429379427                            22049.04   \n",
       "993555030                                0.00   \n",
       "786413532                                0.00   \n",
       "\n",
       "                                     ...                     \\\n",
       "Doctor Identifier                    ...                      \n",
       "450181093                            ...                      \n",
       "375128823                            ...                      \n",
       "429379427                            ...                      \n",
       "993555030                            ...                      \n",
       "786413532                            ...                      \n",
       "\n",
       "                   Percent Depression   Percent Diabetes   \\\n",
       "Doctor Identifier                                           \n",
       "450181093                         75.0              18.00   \n",
       "375128823                         42.0              24.00   \n",
       "429379427                         24.0              19.00   \n",
       "993555030                         31.0               0.89   \n",
       "786413532                         56.0              75.00   \n",
       "\n",
       "                   Percent Hyperlipidemia   Percent Hypertension   \\\n",
       "Doctor Identifier                                                   \n",
       "450181093                             41.0                   50.0   \n",
       "375128823                             48.0                   56.0   \n",
       "429379427                             44.0                   57.0   \n",
       "993555030                             62.0                   57.0   \n",
       "786413532                             75.0                   75.0   \n",
       "\n",
       "                   Percent Ischemic Heart Disease   Percent Osteoporosis   \\\n",
       "Doctor Identifier                                                           \n",
       "450181093                                     3.11                   0.83   \n",
       "375128823                                    22.00                   9.00   \n",
       "429379427                                    25.00                  12.00   \n",
       "993555030                                    36.00                   0.27   \n",
       "786413532                                    41.00                   0.05   \n",
       "\n",
       "                   Percent Rheumatoid Arthritis or Osteoarthritis   \\\n",
       "Doctor Identifier                                                    \n",
       "450181093                                                     23.0   \n",
       "375128823                                                     38.0   \n",
       "429379427                                                     67.0   \n",
       "993555030                                                     38.0   \n",
       "786413532                                                     56.0   \n",
       "\n",
       "                   Percent Schizophrenia or Other Psychotic Disorders   \\\n",
       "Doctor Identifier                                                        \n",
       "450181093                                                      18.00     \n",
       "375128823                                                       7.00     \n",
       "429379427                                                       4.00     \n",
       "993555030                                                       0.44     \n",
       "786413532                                                       0.00     \n",
       "\n",
       "                   Percent Stroke   Average HCC Risk Score of Beneficiaries   \n",
       "Doctor Identifier                                                             \n",
       "450181093                     0.65                                      1.28  \n",
       "375128823                    10.00                                      1.52  \n",
       "429379427                     7.00                                      1.11  \n",
       "993555030                     0.25                                      1.00  \n",
       "786413532                     0.03                                      1.57  \n",
       "\n",
       "[5 rows x 30 columns]"
      ]
     },
     "execution_count": 158,
     "metadata": {},
     "output_type": "execute_result"
    }
   ],
   "source": [
    "print(X_train.shape)\n",
    "X_train.head()"
   ]
  },
  {
   "cell_type": "code",
   "execution_count": 138,
   "metadata": {},
   "outputs": [
    {
     "data": {
      "text/plain": [
       "PCA(copy=True, iterated_power='auto', n_components=None, random_state=None,\n",
       "  svd_solver='auto', tol=0.0, whiten=False)"
      ]
     },
     "execution_count": 138,
     "metadata": {},
     "output_type": "execute_result"
    }
   ],
   "source": [
    "pca = PCA()\n",
    "pca.fit(X_train)"
   ]
  },
  {
   "cell_type": "code",
   "execution_count": 139,
   "metadata": {},
   "outputs": [
    {
     "data": {
      "text/plain": [
       "array([  9.70140442e-01,   2.30655427e-02,   6.12754219e-03,\n",
       "         3.72254359e-04,   2.33062320e-04,   4.72001058e-05,\n",
       "         1.05876913e-05,   2.96855982e-06,   2.41048760e-07,\n",
       "         1.54377373e-07,   3.24251809e-09,   6.15431771e-10,\n",
       "         4.04662041e-10,   1.12436717e-10,   1.03038901e-10,\n",
       "         6.30414216e-11,   3.45897633e-11,   2.67411322e-11,\n",
       "         2.27165861e-11,   2.04046800e-11,   1.75305094e-11,\n",
       "         1.35892651e-11,   1.23447810e-11,   1.01322706e-11,\n",
       "         7.15715789e-12,   6.32005363e-12,   5.05234947e-12,\n",
       "         3.84448776e-12,   3.74724190e-12,   2.82248469e-14])"
      ]
     },
     "execution_count": 139,
     "metadata": {},
     "output_type": "execute_result"
    }
   ],
   "source": [
    "pca.explained_variance_ratio_"
   ]
  },
  {
   "cell_type": "code",
   "execution_count": 140,
   "metadata": {},
   "outputs": [
    {
     "data": {
      "text/plain": [
       "array([  2.20246291e-08,   8.78564400e-03,   6.32417820e-04,\n",
       "         9.52081178e-01,   1.90653059e-01,   1.68080683e-01,\n",
       "         1.67867208e-01,   1.07773605e-04,   2.05326843e-02,\n",
       "         9.19030312e-03,   7.18996607e-03,   7.19088597e-03,\n",
       "         8.67582148e-03,   3.82871039e-07,   3.11786902e-07,\n",
       "         2.53068064e-07,   2.92069276e-07,   4.39249754e-07,\n",
       "         5.15345420e-07,   3.46518105e-07,   1.02466197e-08,\n",
       "         4.56424478e-07,   7.38632741e-07,   7.57704168e-07,\n",
       "         5.87630315e-07,   2.57142992e-07,   5.20173822e-07,\n",
       "         8.68310010e-08,   1.87252188e-07,   8.84243591e-09])"
      ]
     },
     "execution_count": 140,
     "metadata": {},
     "output_type": "execute_result"
    }
   ],
   "source": [
    "pca.components_[0]"
   ]
  },
  {
   "cell_type": "code",
   "execution_count": 141,
   "metadata": {},
   "outputs": [
    {
     "name": "stdout",
     "output_type": "stream",
     "text": [
      "['Total Submitted Charge Amount' 'Total Allowed Amount'\n",
      " 'Total Payment Amount' 'Total Standardized Payment Amount'\n",
      " 'Total Drug Submitted Charge Amount' 'Total Drug Allowed Amount '\n",
      " 'Number of Services' 'Number of Medical Services'\n",
      " 'Total Drug Standardized Payment Amount' 'Total Drug Payment Amount '\n",
      " 'Number of Beneficiaries' 'Number of Drug Services'\n",
      " 'Percent Hypertension ' 'Percent Hyperlipidemia '\n",
      " 'Percent Ischemic Heart Disease '\n",
      " 'Percent Rheumatoid Arthritis or Osteoarthritis '\n",
      " 'Percent Chronic Kidney Disease' 'Percent Diabetes '\n",
      " 'Percent Heart Failure ' 'Percent Atrial Fibrillation'\n",
      " 'Percent Chronic Obstructive Pulmonary Disease'\n",
      " 'Percent Alzheimer\\xc3\\xa2\\xe2\\x82\\xac\\xe2\\x84\\xa2s Disease or Dementia '\n",
      " 'Percent Cancer ' 'Percent Osteoporosis ' 'Percent Asthma '\n",
      " 'Percent Stroke ' 'Percent Schizophrenia or Other Psychotic Disorders '\n",
      " 'Provider Type' 'Percent Depression '\n",
      " 'Average HCC Risk Score of Beneficiaries ']\n"
     ]
    }
   ],
   "source": [
    "cols_sorted = X_train.columns[np.argsort(pca.components_[0])[::-1]].values\n",
    "print(cols_sorted)"
   ]
  },
  {
   "cell_type": "markdown",
   "metadata": {},
   "source": [
    "*** The explained variance of the first PCA component is 97%. This components appears to mostly describe charge amounts and payment amounts. ***"
   ]
  },
  {
   "cell_type": "code",
   "execution_count": 142,
   "metadata": {},
   "outputs": [
    {
     "name": "stdout",
     "output_type": "stream",
     "text": [
      "(18000, 7)\n"
     ]
    },
    {
     "data": {
      "text/html": [
       "<div>\n",
       "<style>\n",
       "    .dataframe thead tr:only-child th {\n",
       "        text-align: right;\n",
       "    }\n",
       "\n",
       "    .dataframe thead th {\n",
       "        text-align: left;\n",
       "    }\n",
       "\n",
       "    .dataframe tbody tr th {\n",
       "        vertical-align: top;\n",
       "    }\n",
       "</style>\n",
       "<table border=\"1\" class=\"dataframe\">\n",
       "  <thead>\n",
       "    <tr style=\"text-align: right;\">\n",
       "      <th></th>\n",
       "      <th>ChargePerPatient</th>\n",
       "      <th>DrugChargePerPatient</th>\n",
       "      <th>PercentChargePaid</th>\n",
       "      <th>PercentDrugChargePaid</th>\n",
       "      <th>PercentAllowedPaid</th>\n",
       "      <th>PercentChargeAllowed</th>\n",
       "      <th>AveragePatientRisk</th>\n",
       "    </tr>\n",
       "    <tr>\n",
       "      <th>Doctor Identifier</th>\n",
       "      <th></th>\n",
       "      <th></th>\n",
       "      <th></th>\n",
       "      <th></th>\n",
       "      <th></th>\n",
       "      <th></th>\n",
       "      <th></th>\n",
       "    </tr>\n",
       "  </thead>\n",
       "  <tbody>\n",
       "    <tr>\n",
       "      <th>450181093</th>\n",
       "      <td>796.212121</td>\n",
       "      <td>0.000000</td>\n",
       "      <td>0.651032</td>\n",
       "      <td>0.000000</td>\n",
       "      <td>0.746529</td>\n",
       "      <td>1.146686</td>\n",
       "      <td>1.28</td>\n",
       "    </tr>\n",
       "    <tr>\n",
       "      <th>375128823</th>\n",
       "      <td>783.924171</td>\n",
       "      <td>137.052133</td>\n",
       "      <td>0.376390</td>\n",
       "      <td>0.089333</td>\n",
       "      <td>0.739264</td>\n",
       "      <td>1.964089</td>\n",
       "      <td>1.52</td>\n",
       "    </tr>\n",
       "    <tr>\n",
       "      <th>429379427</th>\n",
       "      <td>841.114320</td>\n",
       "      <td>50.702927</td>\n",
       "      <td>0.327816</td>\n",
       "      <td>0.032097</td>\n",
       "      <td>0.756085</td>\n",
       "      <td>2.306430</td>\n",
       "      <td>1.11</td>\n",
       "    </tr>\n",
       "    <tr>\n",
       "      <th>993555030</th>\n",
       "      <td>69.880952</td>\n",
       "      <td>0.000000</td>\n",
       "      <td>0.562968</td>\n",
       "      <td>0.000000</td>\n",
       "      <td>0.563382</td>\n",
       "      <td>1.000736</td>\n",
       "      <td>1.00</td>\n",
       "    </tr>\n",
       "    <tr>\n",
       "      <th>786413532</th>\n",
       "      <td>385.823529</td>\n",
       "      <td>0.000000</td>\n",
       "      <td>0.298186</td>\n",
       "      <td>0.000000</td>\n",
       "      <td>0.979997</td>\n",
       "      <td>3.286525</td>\n",
       "      <td>1.57</td>\n",
       "    </tr>\n",
       "  </tbody>\n",
       "</table>\n",
       "</div>"
      ],
      "text/plain": [
       "                   ChargePerPatient  DrugChargePerPatient  PercentChargePaid  \\\n",
       "Doctor Identifier                                                              \n",
       "450181093                796.212121              0.000000           0.651032   \n",
       "375128823                783.924171            137.052133           0.376390   \n",
       "429379427                841.114320             50.702927           0.327816   \n",
       "993555030                 69.880952              0.000000           0.562968   \n",
       "786413532                385.823529              0.000000           0.298186   \n",
       "\n",
       "                   PercentDrugChargePaid  PercentAllowedPaid  \\\n",
       "Doctor Identifier                                              \n",
       "450181093                       0.000000            0.746529   \n",
       "375128823                       0.089333            0.739264   \n",
       "429379427                       0.032097            0.756085   \n",
       "993555030                       0.000000            0.563382   \n",
       "786413532                       0.000000            0.979997   \n",
       "\n",
       "                   PercentChargeAllowed  AveragePatientRisk  \n",
       "Doctor Identifier                                            \n",
       "450181093                      1.146686                1.28  \n",
       "375128823                      1.964089                1.52  \n",
       "429379427                      2.306430                1.11  \n",
       "993555030                      1.000736                1.00  \n",
       "786413532                      3.286525                1.57  "
      ]
     },
     "execution_count": 142,
     "metadata": {},
     "output_type": "execute_result"
    }
   ],
   "source": [
    "X_adj = pd.DataFrame()\n",
    "X_adj['ChargePerPatient'] = X_train['Total Submitted Charge Amount']/X_train['Number of Beneficiaries']\n",
    "X_adj['DrugChargePerPatient'] = X_train['Total Drug Submitted Charge Amount']/X_train['Number of Beneficiaries']\n",
    "X_adj['PercentChargePaid'] = X_train['Total Payment Amount']/X_train['Total Submitted Charge Amount']\n",
    "X_adj['PercentDrugChargePaid'] = X_train['Total Drug Payment Amount ']/X_train['Total Submitted Charge Amount']\n",
    "X_adj['PercentAllowedPaid'] = X_train['Total Payment Amount']/X_train['Total Allowed Amount']\n",
    "X_adj['PercentChargeAllowed'] = X_train['Total Submitted Charge Amount']/X_train['Total Allowed Amount']\n",
    "X_adj['AveragePatientRisk'] = X_train['Average HCC Risk Score of Beneficiaries ']\n",
    "\n",
    "print(X_adj.shape)\n",
    "X_adj.head()"
   ]
  },
  {
   "cell_type": "code",
   "execution_count": 143,
   "metadata": {
    "collapsed": true
   },
   "outputs": [],
   "source": [
    "X_adj.to_csv(\"X_adj.csv\")"
   ]
  },
  {
   "cell_type": "code",
   "execution_count": 144,
   "metadata": {},
   "outputs": [
    {
     "name": "stdout",
     "output_type": "stream",
     "text": [
      "Average Charge Per Patient: 1125.30825161\n",
      "Standard Dev Charge Per Patient: 10549.8475495\n"
     ]
    },
    {
     "data": {
      "text/html": [
       "<div>\n",
       "<style>\n",
       "    .dataframe thead tr:only-child th {\n",
       "        text-align: right;\n",
       "    }\n",
       "\n",
       "    .dataframe thead th {\n",
       "        text-align: left;\n",
       "    }\n",
       "\n",
       "    .dataframe tbody tr th {\n",
       "        vertical-align: top;\n",
       "    }\n",
       "</style>\n",
       "<table border=\"1\" class=\"dataframe\">\n",
       "  <thead>\n",
       "    <tr style=\"text-align: right;\">\n",
       "      <th></th>\n",
       "      <th>ChargePerPatient</th>\n",
       "      <th>DrugChargePerPatient</th>\n",
       "      <th>PercentChargePaid</th>\n",
       "      <th>PercentDrugChargePaid</th>\n",
       "      <th>PercentAllowedPaid</th>\n",
       "      <th>PercentChargeAllowed</th>\n",
       "      <th>AveragePatientRisk</th>\n",
       "    </tr>\n",
       "    <tr>\n",
       "      <th>Doctor Identifier</th>\n",
       "      <th></th>\n",
       "      <th></th>\n",
       "      <th></th>\n",
       "      <th></th>\n",
       "      <th></th>\n",
       "      <th></th>\n",
       "      <th></th>\n",
       "    </tr>\n",
       "  </thead>\n",
       "  <tbody>\n",
       "    <tr>\n",
       "      <th>384220740</th>\n",
       "      <td>1.314173e+06</td>\n",
       "      <td>1314172.89</td>\n",
       "      <td>0.335775</td>\n",
       "      <td>0.335775</td>\n",
       "      <td>0.783954</td>\n",
       "      <td>2.334761</td>\n",
       "      <td>3.15</td>\n",
       "    </tr>\n",
       "    <tr>\n",
       "      <th>715390327</th>\n",
       "      <td>3.676962e+05</td>\n",
       "      <td>0.00</td>\n",
       "      <td>0.115020</td>\n",
       "      <td>0.000000</td>\n",
       "      <td>0.761992</td>\n",
       "      <td>6.624886</td>\n",
       "      <td>2.84</td>\n",
       "    </tr>\n",
       "    <tr>\n",
       "      <th>970788777</th>\n",
       "      <td>1.428823e+05</td>\n",
       "      <td>0.00</td>\n",
       "      <td>0.312982</td>\n",
       "      <td>0.000000</td>\n",
       "      <td>0.695516</td>\n",
       "      <td>2.222222</td>\n",
       "      <td>3.46</td>\n",
       "    </tr>\n",
       "    <tr>\n",
       "      <th>621690803</th>\n",
       "      <td>1.356667e+05</td>\n",
       "      <td>0.00</td>\n",
       "      <td>0.147503</td>\n",
       "      <td>0.000000</td>\n",
       "      <td>0.736119</td>\n",
       "      <td>4.990523</td>\n",
       "      <td>1.74</td>\n",
       "    </tr>\n",
       "    <tr>\n",
       "      <th>996108193</th>\n",
       "      <td>1.183366e+05</td>\n",
       "      <td>0.00</td>\n",
       "      <td>0.159847</td>\n",
       "      <td>0.000000</td>\n",
       "      <td>0.979695</td>\n",
       "      <td>6.128958</td>\n",
       "      <td>2.48</td>\n",
       "    </tr>\n",
       "    <tr>\n",
       "      <th>886011918</th>\n",
       "      <td>1.125924e+05</td>\n",
       "      <td>0.00</td>\n",
       "      <td>0.224126</td>\n",
       "      <td>0.000000</td>\n",
       "      <td>0.797859</td>\n",
       "      <td>3.559873</td>\n",
       "      <td>0.60</td>\n",
       "    </tr>\n",
       "    <tr>\n",
       "      <th>259764167</th>\n",
       "      <td>9.296184e+04</td>\n",
       "      <td>0.00</td>\n",
       "      <td>0.557658</td>\n",
       "      <td>0.000000</td>\n",
       "      <td>0.772319</td>\n",
       "      <td>1.384933</td>\n",
       "      <td>3.83</td>\n",
       "    </tr>\n",
       "    <tr>\n",
       "      <th>932051490</th>\n",
       "      <td>8.669140e+04</td>\n",
       "      <td>0.00</td>\n",
       "      <td>0.483661</td>\n",
       "      <td>0.000000</td>\n",
       "      <td>0.728297</td>\n",
       "      <td>1.505800</td>\n",
       "      <td>0.94</td>\n",
       "    </tr>\n",
       "    <tr>\n",
       "      <th>750384742</th>\n",
       "      <td>7.945644e+04</td>\n",
       "      <td>0.00</td>\n",
       "      <td>0.317072</td>\n",
       "      <td>0.000000</td>\n",
       "      <td>0.732451</td>\n",
       "      <td>2.310049</td>\n",
       "      <td>1.24</td>\n",
       "    </tr>\n",
       "    <tr>\n",
       "      <th>904336522</th>\n",
       "      <td>7.461034e+04</td>\n",
       "      <td>0.00</td>\n",
       "      <td>0.102335</td>\n",
       "      <td>0.000000</td>\n",
       "      <td>0.783610</td>\n",
       "      <td>7.657280</td>\n",
       "      <td>2.28</td>\n",
       "    </tr>\n",
       "  </tbody>\n",
       "</table>\n",
       "</div>"
      ],
      "text/plain": [
       "                   ChargePerPatient  DrugChargePerPatient  PercentChargePaid  \\\n",
       "Doctor Identifier                                                              \n",
       "384220740              1.314173e+06            1314172.89           0.335775   \n",
       "715390327              3.676962e+05                  0.00           0.115020   \n",
       "970788777              1.428823e+05                  0.00           0.312982   \n",
       "621690803              1.356667e+05                  0.00           0.147503   \n",
       "996108193              1.183366e+05                  0.00           0.159847   \n",
       "886011918              1.125924e+05                  0.00           0.224126   \n",
       "259764167              9.296184e+04                  0.00           0.557658   \n",
       "932051490              8.669140e+04                  0.00           0.483661   \n",
       "750384742              7.945644e+04                  0.00           0.317072   \n",
       "904336522              7.461034e+04                  0.00           0.102335   \n",
       "\n",
       "                   PercentDrugChargePaid  PercentAllowedPaid  \\\n",
       "Doctor Identifier                                              \n",
       "384220740                       0.335775            0.783954   \n",
       "715390327                       0.000000            0.761992   \n",
       "970788777                       0.000000            0.695516   \n",
       "621690803                       0.000000            0.736119   \n",
       "996108193                       0.000000            0.979695   \n",
       "886011918                       0.000000            0.797859   \n",
       "259764167                       0.000000            0.772319   \n",
       "932051490                       0.000000            0.728297   \n",
       "750384742                       0.000000            0.732451   \n",
       "904336522                       0.000000            0.783610   \n",
       "\n",
       "                   PercentChargeAllowed  AveragePatientRisk  \n",
       "Doctor Identifier                                            \n",
       "384220740                      2.334761                3.15  \n",
       "715390327                      6.624886                2.84  \n",
       "970788777                      2.222222                3.46  \n",
       "621690803                      4.990523                1.74  \n",
       "996108193                      6.128958                2.48  \n",
       "886011918                      3.559873                0.60  \n",
       "259764167                      1.384933                3.83  \n",
       "932051490                      1.505800                0.94  \n",
       "750384742                      2.310049                1.24  \n",
       "904336522                      7.657280                2.28  "
      ]
     },
     "execution_count": 144,
     "metadata": {},
     "output_type": "execute_result"
    }
   ],
   "source": [
    "print \"Average Charge Per Patient:\", np.mean(X_adj.ChargePerPatient)\n",
    "print \"Standard Dev Charge Per Patient:\", np.std(X_adj.ChargePerPatient)\n",
    "X_adj.sort_values(by=['ChargePerPatient'], ascending=False).head(10)"
   ]
  },
  {
   "cell_type": "code",
   "execution_count": 145,
   "metadata": {},
   "outputs": [
    {
     "data": {
      "image/png": "[encoded data removed]",
      "text/plain": [
       "<matplotlib.figure.Figure at 0x12cb49990>"
      ]
     },
     "metadata": {},
     "output_type": "display_data"
    }
   ],
   "source": [
    "sns.violinplot(sorted(X_adj.ChargePerPatient)[:-10])\n",
    "plt.show()"
   ]
  },
  {
   "cell_type": "markdown",
   "metadata": {},
   "source": [
    "*** Charge per patient distribution appears to be bimodal. ***"
   ]
  },
  {
   "cell_type": "code",
   "execution_count": 146,
   "metadata": {},
   "outputs": [
    {
     "data": {
      "text/plain": [
       "PCA(copy=True, iterated_power='auto', n_components=None, random_state=None,\n",
       "  svd_solver='auto', tol=0.0, whiten=False)"
      ]
     },
     "execution_count": 146,
     "metadata": {},
     "output_type": "execute_result"
    }
   ],
   "source": [
    "pca = PCA()\n",
    "pca.fit(X_adj)"
   ]
  },
  {
   "cell_type": "code",
   "execution_count": 147,
   "metadata": {},
   "outputs": [
    {
     "data": {
      "text/plain": [
       "array([  9.64292096e-01,   3.57078865e-02,   1.52252077e-08,\n",
       "         2.15064194e-09,   1.25451421e-10,   2.23470927e-11,\n",
       "         9.10521022e-12])"
      ]
     },
     "execution_count": 147,
     "metadata": {},
     "output_type": "execute_result"
    }
   ],
   "source": [
    "pca.explained_variance_ratio_"
   ]
  },
  {
   "cell_type": "code",
   "execution_count": 148,
   "metadata": {},
   "outputs": [
    {
     "data": {
      "text/plain": [
       "array([  7.34629586e-01,   6.78468402e-01,  -2.03064354e-07,\n",
       "         1.02447786e-07,   1.86825742e-08,   2.36041283e-06,\n",
       "         1.37520712e-06])"
      ]
     },
     "execution_count": 148,
     "metadata": {},
     "output_type": "execute_result"
    }
   ],
   "source": [
    "pca.components_[0]"
   ]
  },
  {
   "cell_type": "code",
   "execution_count": 149,
   "metadata": {},
   "outputs": [
    {
     "data": {
      "image/png": "[encoded data removed]",
      "text/plain": [
       "<matplotlib.figure.Figure at 0x12bc08e90>"
      ]
     },
     "metadata": {},
     "output_type": "display_data"
    }
   ],
   "source": [
    "transformed = pca.transform(X_adj)\n",
    "plt.scatter(transformed[:,0], transformed[:,1])\n",
    "plt.show()"
   ]
  },
  {
   "cell_type": "markdown",
   "metadata": {},
   "source": [
    "*** Charge per patient and drug charge per patient explain 96% of the variance. ***"
   ]
  },
  {
   "cell_type": "code",
   "execution_count": 150,
   "metadata": {
    "collapsed": true
   },
   "outputs": [],
   "source": [
    "X_adj.to_csv('Data/X_adj.csv')\n",
    "X_train.to_csv('Data/X_train_numerical.csv')"
   ]
  },
  {
   "cell_type": "markdown",
   "metadata": {
    "collapsed": true
   },
   "source": [
    "# Keras Autoencoder"
   ]
  },
  {
   "cell_type": "code",
   "execution_count": 151,
   "metadata": {},
   "outputs": [
    {
     "data": {
      "text/plain": [
       "(18000, 113)"
      ]
     },
     "execution_count": 151,
     "metadata": {},
     "output_type": "execute_result"
    }
   ],
   "source": [
    "X_train = pd.get_dummies(X_train, columns = [\"Provider Type\"])\n",
    "X_train.shape"
   ]
  },
  {
   "cell_type": "code",
   "execution_count": 152,
   "metadata": {},
   "outputs": [
    {
     "name": "stdout",
     "output_type": "stream",
     "text": [
      "(18000, 91)\n"
     ]
    },
    {
     "data": {
      "text/html": [
       "<div>\n",
       "<style>\n",
       "    .dataframe thead tr:only-child th {\n",
       "        text-align: right;\n",
       "    }\n",
       "\n",
       "    .dataframe thead th {\n",
       "        text-align: left;\n",
       "    }\n",
       "\n",
       "    .dataframe tbody tr th {\n",
       "        vertical-align: top;\n",
       "    }\n",
       "</style>\n",
       "<table border=\"1\" class=\"dataframe\">\n",
       "  <thead>\n",
       "    <tr style=\"text-align: right;\">\n",
       "      <th></th>\n",
       "      <th>0</th>\n",
       "      <th>1</th>\n",
       "      <th>2</th>\n",
       "      <th>3</th>\n",
       "      <th>4</th>\n",
       "      <th>5</th>\n",
       "      <th>6</th>\n",
       "      <th>Provider Type_0</th>\n",
       "      <th>Provider Type_1</th>\n",
       "      <th>Provider Type_2</th>\n",
       "      <th>...</th>\n",
       "      <th>Provider Type_74</th>\n",
       "      <th>Provider Type_75</th>\n",
       "      <th>Provider Type_76</th>\n",
       "      <th>Provider Type_77</th>\n",
       "      <th>Provider Type_78</th>\n",
       "      <th>Provider Type_79</th>\n",
       "      <th>Provider Type_80</th>\n",
       "      <th>Provider Type_81</th>\n",
       "      <th>Provider Type_82</th>\n",
       "      <th>Provider Type_83</th>\n",
       "    </tr>\n",
       "    <tr>\n",
       "      <th>Doctor Identifier</th>\n",
       "      <th></th>\n",
       "      <th></th>\n",
       "      <th></th>\n",
       "      <th></th>\n",
       "      <th></th>\n",
       "      <th></th>\n",
       "      <th></th>\n",
       "      <th></th>\n",
       "      <th></th>\n",
       "      <th></th>\n",
       "      <th></th>\n",
       "      <th></th>\n",
       "      <th></th>\n",
       "      <th></th>\n",
       "      <th></th>\n",
       "      <th></th>\n",
       "      <th></th>\n",
       "      <th></th>\n",
       "      <th></th>\n",
       "      <th></th>\n",
       "      <th></th>\n",
       "    </tr>\n",
       "  </thead>\n",
       "  <tbody>\n",
       "    <tr>\n",
       "      <th>450181093</th>\n",
       "      <td>-0.031194</td>\n",
       "      <td>-0.010007</td>\n",
       "      <td>1.758569</td>\n",
       "      <td>-0.248966</td>\n",
       "      <td>-0.260002</td>\n",
       "      <td>-1.015026</td>\n",
       "      <td>-0.424255</td>\n",
       "      <td>0</td>\n",
       "      <td>0</td>\n",
       "      <td>0</td>\n",
       "      <td>...</td>\n",
       "      <td>0</td>\n",
       "      <td>0</td>\n",
       "      <td>0</td>\n",
       "      <td>0</td>\n",
       "      <td>0</td>\n",
       "      <td>0</td>\n",
       "      <td>0</td>\n",
       "      <td>0</td>\n",
       "      <td>0</td>\n",
       "      <td>0</td>\n",
       "    </tr>\n",
       "    <tr>\n",
       "      <th>375128823</th>\n",
       "      <td>-0.032359</td>\n",
       "      <td>0.003979</td>\n",
       "      <td>0.233448</td>\n",
       "      <td>0.499516</td>\n",
       "      <td>-0.376844</td>\n",
       "      <td>-0.555268</td>\n",
       "      <td>-0.070972</td>\n",
       "      <td>0</td>\n",
       "      <td>0</td>\n",
       "      <td>0</td>\n",
       "      <td>...</td>\n",
       "      <td>0</td>\n",
       "      <td>0</td>\n",
       "      <td>0</td>\n",
       "      <td>0</td>\n",
       "      <td>0</td>\n",
       "      <td>0</td>\n",
       "      <td>0</td>\n",
       "      <td>0</td>\n",
       "      <td>0</td>\n",
       "      <td>0</td>\n",
       "    </tr>\n",
       "    <tr>\n",
       "      <th>429379427</th>\n",
       "      <td>-0.026938</td>\n",
       "      <td>-0.004833</td>\n",
       "      <td>-0.036290</td>\n",
       "      <td>0.019963</td>\n",
       "      <td>-0.106314</td>\n",
       "      <td>-0.362714</td>\n",
       "      <td>-0.674497</td>\n",
       "      <td>0</td>\n",
       "      <td>0</td>\n",
       "      <td>0</td>\n",
       "      <td>...</td>\n",
       "      <td>0</td>\n",
       "      <td>0</td>\n",
       "      <td>0</td>\n",
       "      <td>0</td>\n",
       "      <td>0</td>\n",
       "      <td>0</td>\n",
       "      <td>0</td>\n",
       "      <td>0</td>\n",
       "      <td>0</td>\n",
       "      <td>0</td>\n",
       "    </tr>\n",
       "    <tr>\n",
       "      <th>993555030</th>\n",
       "      <td>-0.100042</td>\n",
       "      <td>-0.010007</td>\n",
       "      <td>1.269537</td>\n",
       "      <td>-0.248966</td>\n",
       "      <td>-3.205459</td>\n",
       "      <td>-1.097118</td>\n",
       "      <td>-0.836419</td>\n",
       "      <td>0</td>\n",
       "      <td>0</td>\n",
       "      <td>0</td>\n",
       "      <td>...</td>\n",
       "      <td>0</td>\n",
       "      <td>0</td>\n",
       "      <td>0</td>\n",
       "      <td>0</td>\n",
       "      <td>0</td>\n",
       "      <td>0</td>\n",
       "      <td>0</td>\n",
       "      <td>0</td>\n",
       "      <td>0</td>\n",
       "      <td>0</td>\n",
       "    </tr>\n",
       "    <tr>\n",
       "      <th>786413532</th>\n",
       "      <td>-0.070094</td>\n",
       "      <td>-0.010007</td>\n",
       "      <td>-0.200829</td>\n",
       "      <td>-0.248966</td>\n",
       "      <td>3.494747</td>\n",
       "      <td>0.188552</td>\n",
       "      <td>0.002629</td>\n",
       "      <td>0</td>\n",
       "      <td>0</td>\n",
       "      <td>0</td>\n",
       "      <td>...</td>\n",
       "      <td>0</td>\n",
       "      <td>0</td>\n",
       "      <td>0</td>\n",
       "      <td>0</td>\n",
       "      <td>0</td>\n",
       "      <td>0</td>\n",
       "      <td>0</td>\n",
       "      <td>0</td>\n",
       "      <td>0</td>\n",
       "      <td>0</td>\n",
       "    </tr>\n",
       "  </tbody>\n",
       "</table>\n",
       "<p>5 rows × 91 columns</p>\n",
       "</div>"
      ],
      "text/plain": [
       "                          0         1         2         3         4         5  \\\n",
       "Doctor Identifier                                                               \n",
       "450181093         -0.031194 -0.010007  1.758569 -0.248966 -0.260002 -1.015026   \n",
       "375128823         -0.032359  0.003979  0.233448  0.499516 -0.376844 -0.555268   \n",
       "429379427         -0.026938 -0.004833 -0.036290  0.019963 -0.106314 -0.362714   \n",
       "993555030         -0.100042 -0.010007  1.269537 -0.248966 -3.205459 -1.097118   \n",
       "786413532         -0.070094 -0.010007 -0.200829 -0.248966  3.494747  0.188552   \n",
       "\n",
       "                          6  Provider Type_0  Provider Type_1  \\\n",
       "Doctor Identifier                                               \n",
       "450181093         -0.424255                0                0   \n",
       "375128823         -0.070972                0                0   \n",
       "429379427         -0.674497                0                0   \n",
       "993555030         -0.836419                0                0   \n",
       "786413532          0.002629                0                0   \n",
       "\n",
       "                   Provider Type_2        ...         Provider Type_74  \\\n",
       "Doctor Identifier                         ...                            \n",
       "450181093                        0        ...                        0   \n",
       "375128823                        0        ...                        0   \n",
       "429379427                        0        ...                        0   \n",
       "993555030                        0        ...                        0   \n",
       "786413532                        0        ...                        0   \n",
       "\n",
       "                   Provider Type_75  Provider Type_76  Provider Type_77  \\\n",
       "Doctor Identifier                                                         \n",
       "450181093                         0                 0                 0   \n",
       "375128823                         0                 0                 0   \n",
       "429379427                         0                 0                 0   \n",
       "993555030                         0                 0                 0   \n",
       "786413532                         0                 0                 0   \n",
       "\n",
       "                   Provider Type_78  Provider Type_79  Provider Type_80  \\\n",
       "Doctor Identifier                                                         \n",
       "450181093                         0                 0                 0   \n",
       "375128823                         0                 0                 0   \n",
       "429379427                         0                 0                 0   \n",
       "993555030                         0                 0                 0   \n",
       "786413532                         0                 0                 0   \n",
       "\n",
       "                   Provider Type_81  Provider Type_82  Provider Type_83  \n",
       "Doctor Identifier                                                        \n",
       "450181093                         0                 0                 0  \n",
       "375128823                         0                 0                 0  \n",
       "429379427                         0                 0                 0  \n",
       "993555030                         0                 0                 0  \n",
       "786413532                         0                 0                 0  \n",
       "\n",
       "[5 rows x 91 columns]"
      ]
     },
     "execution_count": 152,
     "metadata": {},
     "output_type": "execute_result"
    }
   ],
   "source": [
    "scaler = MinMaxScaler()\n",
    "X_adj_std = scaler.fit_transform(X_adj.values)\n",
    "X_adj_std = pd.concat([pd.DataFrame(X_adj_std, index=X_train.index), X_train.iloc[:,-84:]], axis=1)\n",
    "print X_adj_std.shape\n",
    "X_adj_std.head()"
   ]
  },
  {
   "cell_type": "code",
   "execution_count": 153,
   "metadata": {
    "scrolled": false
   },
   "outputs": [],
   "source": [
    "input_dim = X_adj_std.shape[1]\n",
    "encoding_dim = 20\n",
    "\n",
    "input_layer = Input(shape=(input_dim, ))\n",
    "encoder = Dense(encoding_dim, activation=\"tanh\", \n",
    "                activity_regularizer=regularizers.l1(10e-5))(input_layer)\n",
    "encoder = Dense(int(encoding_dim / 2), activation=\"relu\")(encoder)\n",
    "decoder = Dense(int(encoding_dim / 2), activation='tanh')(encoder)\n",
    "decoder = Dense(input_dim, activation='relu')(decoder)\n",
    "autoencoder = Model(inputs=input_layer, outputs=decoder)\n",
    "\n",
    "nb_epoch = 300\n",
    "batch_size = 32\n",
    "autoencoder.compile(optimizer='adam', \n",
    "                    loss='mean_squared_error')\n",
    "history = autoencoder.fit(X_adj_std.values, \n",
    "                          X_adj_std.values,\n",
    "                          epochs=nb_epoch,\n",
    "                          batch_size=batch_size,\n",
    "                          shuffle=True,\n",
    "                          verbose=0).history"
   ]
  },
  {
   "cell_type": "code",
   "execution_count": 154,
   "metadata": {},
   "outputs": [
    {
     "data": {
      "image/png": "[encoded data removed]",
      "text/plain": [
       "<matplotlib.figure.Figure at 0x12ccfe7d0>"
      ]
     },
     "metadata": {},
     "output_type": "display_data"
    }
   ],
   "source": [
    "plt.plot(history['loss'])\n",
    "plt.show()"
   ]
  },
  {
   "cell_type": "code",
   "execution_count": 133,
   "metadata": {
    "collapsed": true
   },
   "outputs": [],
   "source": [
    "predictions = autoencoder.predict(X_adj_std.values)\n",
    "mse = np.mean(np.power(X_adj_std.values - predictions, 2), axis=1)\n",
    "risk_df = pd.DataFrame({'Doctor Identifier': X_adj_std.index.values,\n",
    "                        'Risk': mse})"
   ]
  },
  {
   "cell_type": "code",
   "execution_count": 134,
   "metadata": {},
   "outputs": [],
   "source": [
    "risk_df.to_csv('autoencoder_1.csv', index=False)"
   ]
  },
  {
   "cell_type": "markdown",
   "metadata": {},
   "source": [
    "# Gaussian Probabilities"
   ]
  },
  {
   "cell_type": "code",
   "execution_count": 216,
   "metadata": {},
   "outputs": [],
   "source": [
    "X_train_test = pd.read_csv('Data/X_train_test.csv').set_index('Doctor Identifier')\n",
    "provider2num = {}\n",
    "ctr = 0\n",
    "for provider in list(set(X_train_test['Provider Type'])):\n",
    "    provider2num[provider] = ctr\n",
    "    ctr += 1\n",
    "X_train_test['Provider Type'] = [provider2num[d] for d in X_train_test['Provider Type']]"
   ]
  },
  {
   "cell_type": "code",
   "execution_count": 217,
   "metadata": {},
   "outputs": [],
   "source": [
    "#merge provider types\n",
    "providernums = np.argsort([list(X_train_test['Provider Type']).count(i) for i in range(84)])[:8]\n",
    "X_train_test['Provider Type'] = [-1 if (a in providernums) else a for a in X_train_test['Provider Type']]\n",
    "X_train_test.to_csv('Data/X_train_test3.csv')"
   ]
  },
  {
   "cell_type": "code",
   "execution_count": 218,
   "metadata": {},
   "outputs": [
    {
     "data": {
      "text/plain": [
       "(27743, 30)"
      ]
     },
     "execution_count": 218,
     "metadata": {},
     "output_type": "execute_result"
    }
   ],
   "source": [
    "X_train_test.shape"
   ]
  },
  {
   "cell_type": "code",
   "execution_count": 200,
   "metadata": {},
   "outputs": [],
   "source": [
    "return_df = pd.DataFrame(columns=['Risk'])\n",
    "for providertype in range(84):\n",
    "    df = X_train_test[X_train_test['Provider Type'] == providertype].iloc[:,1:]\n",
    "    means = df.mean(axis=0)\n",
    "    stdevs = df.std(axis=0)\n",
    "    for docid in df.index.values:\n",
    "        if docid in X_train.index.values:\n",
    "            logprob = 0\n",
    "            for e,col in enumerate(df.columns.values):\n",
    "                logprob += stats.norm.logpdf(df.loc[docid, col], means[e], stdevs[e])\n",
    "            return_df.loc[docid] = logprob"
   ]
  },
  {
   "cell_type": "code",
   "execution_count": 202,
   "metadata": {},
   "outputs": [],
   "source": [
    "return_df.to_csv('gaussian.csv')"
   ]
  },
  {
   "cell_type": "code",
   "execution_count": null,
   "metadata": {
    "collapsed": true
   },
   "outputs": [],
   "source": []
  }
 ],
 "metadata": {
  "kernelspec": {
   "display_name": "Python [Root]",
   "language": "python",
   "name": "Python [Root]"
  },
  "language_info": {
   "codemirror_mode": {
    "name": "ipython",
    "version": 2
   },
   "file_extension": ".py",
   "mimetype": "text/x-python",
   "name": "python",
   "nbconvert_exporter": "python",
   "pygments_lexer": "ipython2",
   "version": "2.7.13"
  }
 },
 "nbformat": 4,
 "nbformat_minor": 2
}
