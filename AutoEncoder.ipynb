{
 "cells": [
  {
   "cell_type": "code",
   "execution_count": 1,
   "metadata": {
    "collapsed": true
   },
   "outputs": [],
   "source": [
    "import pandas as pd\n",
    "import numpy as np\n",
    "import tensorflow as tf\n",
    "import os\n",
    "from datetime import datetime \n",
    "from sklearn.metrics import roc_auc_score as auc \n",
    "import seaborn as sns"
   ]
  },
  {
   "cell_type": "code",
   "execution_count": 2,
   "metadata": {
    "collapsed": true
   },
   "outputs": [],
   "source": [
    "import matplotlib.pyplot as plt\n",
    "import matplotlib.gridspec as gridspec\n",
    "%matplotlib inline"
   ]
  },
  {
   "cell_type": "code",
   "execution_count": 3,
   "metadata": {},
   "outputs": [],
   "source": [
    "df = pd.read_csv('Data/X_train_test_CombinedCategories.csv')"
   ]
  },
  {
   "cell_type": "code",
   "execution_count": 4,
   "metadata": {},
   "outputs": [],
   "source": [
    "pd.options.display.max_columns = 999\n",
    "df1 = df.groupby('Provider Type').transform(lambda x: (x - x.mean()) / x.std())\n",
    "\n",
    "train_x = df1.iloc[:,1:].values"
   ]
  },
  {
   "cell_type": "code",
   "execution_count": 27,
   "metadata": {
    "collapsed": true
   },
   "outputs": [],
   "source": [
    "# Parameters\n",
    "learning_rate = 0.0005\n",
    "training_epochs = 150\n",
    "batch_size = 1024\n",
    "display_step = 1\n",
    "\n",
    "# Network Parameters\n",
    "n_hidden_1 = 15 # 1st layer num features\n",
    "#n_hidden_2 = 15 # 2nd layer num features\n",
    "n_input = train_x.shape[1] # MNIST data input (img shape: 28*28)\n",
    "data_dir = '.'"
   ]
  },
  {
   "cell_type": "code",
   "execution_count": 28,
   "metadata": {},
   "outputs": [
    {
     "name": "stdout",
     "output_type": "stream",
     "text": [
      "Epoch: 0001 cost= 1.811736584 Time elapsed= 0:00:01.469811\n",
      "Epoch: 0002 cost= 1.437579751 Time elapsed= 0:00:01.566980\n",
      "Epoch: 0003 cost= 1.577134252 Time elapsed= 0:00:01.668857\n",
      "Epoch: 0004 cost= 1.493493438 Time elapsed= 0:00:01.792512\n",
      "Epoch: 0005 cost= 1.607101679 Time elapsed= 0:00:01.891868\n",
      "Epoch: 0006 cost= 1.266075373 Time elapsed= 0:00:01.991523\n",
      "Epoch: 0007 cost= 1.460443974 Time elapsed= 0:00:02.110778\n",
      "Epoch: 0008 cost= 1.628917456 Time elapsed= 0:00:02.213614\n",
      "Epoch: 0009 cost= 1.466831923 Time elapsed= 0:00:02.308199\n",
      "Epoch: 0010 cost= 2.039290667 Time elapsed= 0:00:02.439697\n",
      "Epoch: 0011 cost= 1.279381633 Time elapsed= 0:00:02.538905\n",
      "Epoch: 0012 cost= 1.488589883 Time elapsed= 0:00:02.635941\n",
      "Epoch: 0013 cost= 1.229589343 Time elapsed= 0:00:02.758672\n",
      "Epoch: 0014 cost= 1.159185767 Time elapsed= 0:00:02.868372\n",
      "Epoch: 0015 cost= 1.208297849 Time elapsed= 0:00:02.991187\n",
      "Epoch: 0016 cost= 1.242755175 Time elapsed= 0:00:03.101496\n",
      "Epoch: 0017 cost= 1.608197808 Time elapsed= 0:00:03.202152\n",
      "Epoch: 0018 cost= 1.500871301 Time elapsed= 0:00:03.326227\n",
      "Epoch: 0019 cost= 1.192386985 Time elapsed= 0:00:03.437898\n",
      "Epoch: 0020 cost= 0.939300299 Time elapsed= 0:00:03.550811\n",
      "Epoch: 0021 cost= 1.236491323 Time elapsed= 0:00:03.654098\n",
      "Epoch: 0022 cost= 1.161283851 Time elapsed= 0:00:03.829324\n",
      "Epoch: 0023 cost= 1.373608351 Time elapsed= 0:00:04.128251\n",
      "Epoch: 0024 cost= 1.150023341 Time elapsed= 0:00:04.245024\n",
      "Epoch: 0025 cost= 0.933834255 Time elapsed= 0:00:04.345878\n",
      "Epoch: 0026 cost= 1.182100177 Time elapsed= 0:00:04.473074\n",
      "Epoch: 0027 cost= 1.255448341 Time elapsed= 0:00:04.575059\n",
      "Epoch: 0028 cost= 1.313301206 Time elapsed= 0:00:04.696612\n",
      "Epoch: 0029 cost= 1.114004016 Time elapsed= 0:00:04.792553\n",
      "Epoch: 0030 cost= 1.261304259 Time elapsed= 0:00:04.912993\n",
      "Epoch: 0031 cost= 1.526661634 Time elapsed= 0:00:05.011248\n",
      "Epoch: 0032 cost= 1.099889874 Time elapsed= 0:00:05.125934\n",
      "Epoch: 0033 cost= 0.874347150 Time elapsed= 0:00:05.227369\n",
      "Epoch: 0034 cost= 0.988218784 Time elapsed= 0:00:05.349236\n",
      "Epoch: 0035 cost= 0.968322635 Time elapsed= 0:00:05.450779\n",
      "Epoch: 0036 cost= 0.826588869 Time elapsed= 0:00:05.566069\n",
      "Epoch: 0037 cost= 1.432167411 Time elapsed= 0:00:05.667276\n",
      "Epoch: 0038 cost= 1.173700571 Time elapsed= 0:00:05.788282\n",
      "Epoch: 0039 cost= 1.016906619 Time elapsed= 0:00:06.000093\n",
      "Epoch: 0040 cost= 1.025571465 Time elapsed= 0:00:06.190837\n",
      "Epoch: 0041 cost= 1.035729289 Time elapsed= 0:00:06.311241\n",
      "Epoch: 0042 cost= 0.823040724 Time elapsed= 0:00:06.421415\n",
      "Epoch: 0043 cost= 0.871152520 Time elapsed= 0:00:06.531895\n",
      "Epoch: 0044 cost= 0.801167428 Time elapsed= 0:00:06.668909\n",
      "Epoch: 0045 cost= 0.799840987 Time elapsed= 0:00:06.829115\n",
      "Epoch: 0046 cost= 0.756193757 Time elapsed= 0:00:06.949950\n",
      "Epoch: 0047 cost= 0.772619963 Time elapsed= 0:00:07.071974\n",
      "Epoch: 0048 cost= 0.786846578 Time elapsed= 0:00:07.209972\n",
      "Epoch: 0049 cost= 0.879628122 Time elapsed= 0:00:07.330637\n",
      "Epoch: 0050 cost= 0.828284204 Time elapsed= 0:00:07.460820\n",
      "Epoch: 0051 cost= 0.940948606 Time elapsed= 0:00:07.605441\n",
      "Epoch: 0052 cost= 0.765339732 Time elapsed= 0:00:07.721168\n",
      "Epoch: 0053 cost= 0.776748061 Time elapsed= 0:00:07.829080\n",
      "Epoch: 0054 cost= 0.881351471 Time elapsed= 0:00:07.964393\n",
      "Epoch: 0055 cost= 0.920028269 Time elapsed= 0:00:08.092936\n",
      "Epoch: 0056 cost= 0.797007620 Time elapsed= 0:00:08.211591\n",
      "Epoch: 0057 cost= 0.797395468 Time elapsed= 0:00:08.342223\n",
      "Epoch: 0058 cost= 0.651628733 Time elapsed= 0:00:08.474913\n",
      "Epoch: 0059 cost= 0.807693899 Time elapsed= 0:00:08.635376\n",
      "Epoch: 0060 cost= 0.842975080 Time elapsed= 0:00:08.893332\n",
      "Epoch: 0061 cost= 0.764299452 Time elapsed= 0:00:09.034641\n",
      "Epoch: 0062 cost= 1.087867022 Time elapsed= 0:00:09.164812\n",
      "Epoch: 0063 cost= 0.631797433 Time elapsed= 0:00:09.283687\n",
      "Epoch: 0064 cost= 1.309253931 Time elapsed= 0:00:09.407566\n",
      "Epoch: 0065 cost= 0.698955357 Time elapsed= 0:00:09.538709\n",
      "Epoch: 0066 cost= 0.975718558 Time elapsed= 0:00:09.664802\n",
      "Epoch: 0067 cost= 0.726727843 Time elapsed= 0:00:09.780760\n",
      "Epoch: 0068 cost= 1.091850638 Time elapsed= 0:00:09.900531\n",
      "Epoch: 0069 cost= 0.908089757 Time elapsed= 0:00:10.031928\n",
      "Epoch: 0070 cost= 1.143018126 Time elapsed= 0:00:10.145332\n",
      "Epoch: 0071 cost= 0.929143846 Time elapsed= 0:00:10.275869\n",
      "Epoch: 0072 cost= 0.929117978 Time elapsed= 0:00:10.408656\n",
      "Epoch: 0073 cost= 0.716081500 Time elapsed= 0:00:10.716783\n",
      "Epoch: 0074 cost= 1.045226574 Time elapsed= 0:00:10.845357\n",
      "Epoch: 0075 cost= 0.591906428 Time elapsed= 0:00:10.967255\n",
      "Epoch: 0076 cost= 0.838710666 Time elapsed= 0:00:11.092081\n",
      "Epoch: 0077 cost= 0.591671467 Time elapsed= 0:00:11.218681\n",
      "Epoch: 0078 cost= 0.579102397 Time elapsed= 0:00:11.340562\n",
      "Epoch: 0079 cost= 0.758261263 Time elapsed= 0:00:11.475326\n",
      "Epoch: 0080 cost= 0.800182104 Time elapsed= 0:00:11.603757\n",
      "Epoch: 0081 cost= 0.894027531 Time elapsed= 0:00:11.765725\n",
      "Epoch: 0082 cost= 0.744028926 Time elapsed= 0:00:11.886759\n",
      "Epoch: 0083 cost= 0.676729381 Time elapsed= 0:00:12.017146\n",
      "Epoch: 0084 cost= 0.841363490 Time elapsed= 0:00:12.139849\n",
      "Epoch: 0085 cost= 0.726012170 Time elapsed= 0:00:12.266302\n",
      "Epoch: 0086 cost= 0.661610782 Time elapsed= 0:00:12.391047\n",
      "Epoch: 0087 cost= 0.559495270 Time elapsed= 0:00:12.515809\n",
      "Epoch: 0088 cost= 0.804105937 Time elapsed= 0:00:12.635853\n",
      "Epoch: 0089 cost= 0.936248124 Time elapsed= 0:00:12.760511\n",
      "Epoch: 0090 cost= 0.708231449 Time elapsed= 0:00:12.885673\n",
      "Epoch: 0091 cost= 0.518715143 Time elapsed= 0:00:13.009474\n",
      "Epoch: 0092 cost= 0.634905219 Time elapsed= 0:00:13.132027\n",
      "Epoch: 0093 cost= 0.706253171 Time elapsed= 0:00:13.279016\n",
      "Epoch: 0094 cost= 0.674420297 Time elapsed= 0:00:13.542119\n",
      "Epoch: 0095 cost= 0.855423808 Time elapsed= 0:00:13.713871\n",
      "Epoch: 0096 cost= 0.580287337 Time elapsed= 0:00:13.854352\n",
      "Epoch: 0097 cost= 1.069505930 Time elapsed= 0:00:13.969782\n",
      "Epoch: 0098 cost= 0.642120957 Time elapsed= 0:00:14.093485\n",
      "Epoch: 0099 cost= 0.839036822 Time elapsed= 0:00:14.228956\n",
      "Epoch: 0100 cost= 0.657487273 Time elapsed= 0:00:14.372106\n",
      "Epoch: 0101 cost= 0.575495481 Time elapsed= 0:00:14.560652\n",
      "Epoch: 0102 cost= 0.639277637 Time elapsed= 0:00:14.766663\n",
      "Epoch: 0103 cost= 0.812190533 Time elapsed= 0:00:14.882810\n",
      "Epoch: 0104 cost= 0.601157248 Time elapsed= 0:00:15.007361\n",
      "Epoch: 0105 cost= 0.531888604 Time elapsed= 0:00:15.137143\n",
      "Epoch: 0106 cost= 0.681726456 Time elapsed= 0:00:15.273020\n",
      "Epoch: 0107 cost= 0.596634567 Time elapsed= 0:00:15.399517\n",
      "Epoch: 0108 cost= 0.679277480 Time elapsed= 0:00:15.529927\n",
      "Epoch: 0109 cost= 0.530492365 Time elapsed= 0:00:15.661678\n",
      "Epoch: 0110 cost= 0.550195992 Time elapsed= 0:00:15.794505\n",
      "Epoch: 0111 cost= 0.444980592 Time elapsed= 0:00:15.907646\n",
      "Epoch: 0112 cost= 0.501664758 Time elapsed= 0:00:16.079602\n",
      "Epoch: 0113 cost= 0.786004782 Time elapsed= 0:00:16.251617\n",
      "Epoch: 0114 cost= 0.624769926 Time elapsed= 0:00:16.378594\n",
      "Epoch: 0115 cost= 0.500298142 Time elapsed= 0:00:16.520642\n",
      "Epoch: 0116 cost= 0.460895598 Time elapsed= 0:00:16.860155\n",
      "Epoch: 0117 cost= 0.425105661 Time elapsed= 0:00:17.077084\n",
      "Epoch: 0118 cost= 0.412595421 Time elapsed= 0:00:17.310439\n",
      "Epoch: 0119 cost= 0.525488257 Time elapsed= 0:00:17.542315\n",
      "Epoch: 0120 cost= 0.784848034 Time elapsed= 0:00:17.689198\n",
      "Epoch: 0121 cost= 0.601731479 Time elapsed= 0:00:17.925678\n",
      "Epoch: 0122 cost= 0.552321613 Time elapsed= 0:00:18.122116\n",
      "Epoch: 0123 cost= 0.427933007 Time elapsed= 0:00:18.314623\n",
      "Epoch: 0124 cost= 0.653327227 Time elapsed= 0:00:18.465545\n",
      "Epoch: 0125 cost= 0.753524363 Time elapsed= 0:00:18.761697\n",
      "Epoch: 0126 cost= 0.485186338 Time elapsed= 0:00:18.937853\n",
      "Epoch: 0127 cost= 0.592441320 Time elapsed= 0:00:19.116501\n",
      "Epoch: 0128 cost= 0.623123288 Time elapsed= 0:00:19.333844\n",
      "Epoch: 0129 cost= 0.586566389 Time elapsed= 0:00:19.495479\n",
      "Epoch: 0130 cost= 0.792209506 Time elapsed= 0:00:19.690718\n",
      "Epoch: 0131 cost= 0.539297640 Time elapsed= 0:00:19.825173\n",
      "Epoch: 0132 cost= 0.990557432 Time elapsed= 0:00:19.964273\n",
      "Epoch: 0133 cost= 0.458832502 Time elapsed= 0:00:20.105605\n",
      "Epoch: 0134 cost= 0.616836905 Time elapsed= 0:00:20.407771\n",
      "Epoch: 0135 cost= 0.484814286 Time elapsed= 0:00:20.578057\n",
      "Epoch: 0136 cost= 0.750165105 Time elapsed= 0:00:20.723108\n",
      "Epoch: 0137 cost= 0.650462985 Time elapsed= 0:00:20.837388\n",
      "Epoch: 0138 cost= 1.045011759 Time elapsed= 0:00:20.971010\n",
      "Epoch: 0139 cost= 0.392018855 Time elapsed= 0:00:21.095381\n"
     ]
    },
    {
     "name": "stdout",
     "output_type": "stream",
     "text": [
      "Epoch: 0140 cost= 0.635331213 Time elapsed= 0:00:21.205321\n",
      "Epoch: 0141 cost= 0.446963012 Time elapsed= 0:00:21.402580\n",
      "Epoch: 0142 cost= 0.384331077 Time elapsed= 0:00:21.680574\n",
      "Epoch: 0143 cost= 0.592375457 Time elapsed= 0:00:21.981738\n",
      "Epoch: 0144 cost= 0.391087890 Time elapsed= 0:00:22.137574\n",
      "Epoch: 0145 cost= 0.428010404 Time elapsed= 0:00:22.273089\n",
      "Epoch: 0146 cost= 0.559345841 Time elapsed= 0:00:22.390846\n",
      "Epoch: 0147 cost= 0.446429968 Time elapsed= 0:00:22.577581\n",
      "Epoch: 0148 cost= 0.448860705 Time elapsed= 0:00:22.701249\n",
      "Epoch: 0149 cost= 0.802969456 Time elapsed= 0:00:22.819220\n",
      "Epoch: 0150 cost= 0.373167038 Time elapsed= 0:00:22.949936\n",
      "Optimization Finished!\n",
      "Model saved in file: ./temp_saved_model_1layer.ckpt\n"
     ]
    }
   ],
   "source": [
    "X = tf.placeholder(\"float\", [None, n_input])\n",
    "\n",
    "weights = {\n",
    "    'encoder_h1': tf.Variable(tf.random_normal([n_input, n_hidden_1])),\n",
    "    #'encoder_h2': tf.Variable(tf.random_normal([n_hidden_1, n_hidden_2])),\n",
    "    'decoder_h1': tf.Variable(tf.random_normal([n_hidden_1, n_input])),\n",
    "    #'decoder_h2': tf.Variable(tf.random_normal([n_hidden_1, n_input])),\n",
    "}\n",
    "biases = {\n",
    "    'encoder_b1': tf.Variable(tf.random_normal([n_hidden_1])),\n",
    "    #'encoder_b2': tf.Variable(tf.random_normal([n_hidden_2])),\n",
    "    'decoder_b1': tf.Variable(tf.random_normal([n_input])),\n",
    "    #'decoder_b2': tf.Variable(tf.random_normal([n_input])),\n",
    "}\n",
    "\n",
    "\n",
    "# Building the encoder\n",
    "def encoder(x):\n",
    "    # Encoder Hidden layer with sigmoid activation #1\n",
    "    layer_1 = tf.nn.tanh(tf.add(tf.matmul(x, weights['encoder_h1']),\n",
    "                                   biases['encoder_b1']))\n",
    "    # Decoder Hidden layer with sigmoid activation #2\n",
    "    #layer_2 = tf.nn.tanh(tf.add(tf.matmul(layer_1, weights['encoder_h2']),\n",
    "                                   #biases['encoder_b2']))\n",
    "    return layer_1\n",
    "\n",
    "\n",
    "# Building the decoder\n",
    "def decoder(x):\n",
    "    # Encoder Hidden layer with sigmoid activation #1\n",
    "    layer_1 = tf.nn.tanh(tf.add(tf.matmul(x, weights['decoder_h1']),\n",
    "                                   biases['decoder_b1']))\n",
    "    # Decoder Hidden layer with sigmoid activation #2\n",
    "    #layer_2 = tf.nn.tanh(tf.add(tf.matmul(layer_1, weights['decoder_h2']),\n",
    "                                  # biases['decoder_b2']))\n",
    "    return layer_1\n",
    "\n",
    "# Construct model\n",
    "encoder_op = encoder(X)\n",
    "decoder_op = decoder(encoder_op)\n",
    "\n",
    "# Prediction\n",
    "y_pred = decoder_op\n",
    "# Targets (Labels) are the input data.\n",
    "y_true = X\n",
    "\n",
    "# Define batch mse\n",
    "batch_mse = tf.reduce_mean(tf.pow(y_true - y_pred, 2), 1)\n",
    "\n",
    "# Define loss and optimizer, minimize the squared error\n",
    "cost = tf.reduce_mean(tf.pow(y_true - y_pred, 2))\n",
    "optimizer = tf.train.RMSPropOptimizer(learning_rate).minimize(cost)\n",
    "\n",
    "# TRAIN StARTS\n",
    "save_model = os.path.join(data_dir, 'temp_saved_model_1layer.ckpt')\n",
    "saver = tf.train.Saver()\n",
    "\n",
    "# Initializing the variables\n",
    "init = tf.global_variables_initializer()\n",
    "\n",
    "with tf.Session() as sess:\n",
    "    now = datetime.now()\n",
    "    sess.run(init)\n",
    "    total_batch = int(train_x.shape[0]/batch_size)\n",
    "    # Training cycle\n",
    "    for epoch in range(training_epochs):\n",
    "        # Loop over all batches\n",
    "        for i in range(total_batch):\n",
    "            batch_idx = np.random.choice(train_x.shape[0], batch_size)\n",
    "            batch_xs = train_x[batch_idx]\n",
    "            # Run optimization op (backprop) and cost op (to get loss value)\n",
    "            _, c = sess.run([optimizer, cost], feed_dict={X: batch_xs})\n",
    "        \n",
    "        \n",
    "        # Display logs per epoch step\n",
    "        if epoch % display_step == 0:\n",
    "            train_batch_mse = sess.run(batch_mse, feed_dict={X: train_x})\n",
    "            print(\"Epoch:\", '%04d' % (epoch+1),\n",
    "                  \"cost=\", \"{:.9f}\".format(c), \n",
    "                  #\"Train auc=\", \"{:.6f}\".format(auc(train_y, train_batch_mse)), \n",
    "                  \"Time elapsed=\", \"{}\".format(datetime.now() - now))\n",
    "\n",
    "    print(\"Optimization Finished!\")\n",
    "    \n",
    "    save_path = saver.save(sess, save_model)\n",
    "    print(\"Model saved in file: %s\" % save_path)"
   ]
  },
  {
   "cell_type": "code",
   "execution_count": 7,
   "metadata": {},
   "outputs": [
    {
     "name": "stdout",
     "output_type": "stream",
     "text": [
      "INFO:tensorflow:Restoring parameters from ./temp_saved_model_1layer.ckpt\n"
     ]
    }
   ],
   "source": [
    "save_model = os.path.join(data_dir, 'temp_saved_model_1layer.ckpt')\n",
    "saver = tf.train.Saver()\n",
    "\n",
    "# Initializing the variables\n",
    "init = tf.global_variables_initializer()\n",
    "\n",
    "with tf.Session() as sess:\n",
    "    now = datetime.now()\n",
    "    \n",
    "    saver.restore(sess, save_model)\n",
    "    \n",
    "    train_batch_mse = sess.run(batch_mse, feed_dict={X: train_x})\n",
    "    \n",
    "    #print(\"Test auc score: {:.6f}\".format(auc(test_y, test_batch_mse))\n",
    "\n"
   ]
  },
  {
   "cell_type": "code",
   "execution_count": null,
   "metadata": {},
   "outputs": [],
   "source": []
  },
  {
   "cell_type": "code",
   "execution_count": 8,
   "metadata": {},
   "outputs": [
    {
     "data": {
      "image/png": "[encoded data removed]",
      "text/plain": [
       "<matplotlib.figure.Figure at 0x10f556e10>"
      ]
     },
     "metadata": {},
     "output_type": "display_data"
    }
   ],
   "source": [
    "plt.hist(train_batch_mse[(train_batch_mse < 5)], bins = 100)\n",
    "plt.title(\"fraud score (mse) distribution\")\n",
    "plt.xlabel(\"fraud score (mse)\")\n",
    "plt.show()"
   ]
  },
  {
   "cell_type": "code",
   "execution_count": 9,
   "metadata": {},
   "outputs": [
    {
     "name": "stdout",
     "output_type": "stream",
     "text": [
      "316.269\n",
      "0.476195\n"
     ]
    }
   ],
   "source": [
    "print(np.max(train_batch_mse))\n",
    "print(np.average(train_batch_mse))"
   ]
  },
  {
   "cell_type": "code",
   "execution_count": 10,
   "metadata": {},
   "outputs": [],
   "source": [
    "#risk = (train_batch_mse - np.average(train_batch_mse))/np.std(train_batch_mse)\n",
    "#risk"
   ]
  },
  {
   "cell_type": "code",
   "execution_count": 12,
   "metadata": {},
   "outputs": [],
   "source": [
    "import pandas as pd\n",
    "output = pd.DataFrame()\n",
    "output['Doctor Identifier'] = df['Doctor Identifier'].values[:18000]\n",
    "output['Risk'] = train_batch_mse[:18000]\n",
    "output.to_csv(\"outputs/autoencoder.csv\", index=False)"
   ]
  },
  {
   "cell_type": "code",
   "execution_count": 13,
   "metadata": {},
   "outputs": [
    {
     "data": {
      "text/plain": [
       "18000"
      ]
     },
     "execution_count": 13,
     "metadata": {},
     "output_type": "execute_result"
    }
   ],
   "source": [
    "len(output)"
   ]
  },
  {
   "cell_type": "code",
   "execution_count": null,
   "metadata": {
    "collapsed": true
   },
   "outputs": [],
   "source": []
  }
 ],
 "metadata": {
  "kernelspec": {
   "display_name": "Python 3",
   "language": "python",
   "name": "python3"
  },
  "language_info": {
   "codemirror_mode": {
    "name": "ipython",
    "version": 3
   },
   "file_extension": ".py",
   "mimetype": "text/x-python",
   "name": "python",
   "nbconvert_exporter": "python",
   "pygments_lexer": "ipython3",
   "version": "3.6.1"
  }
 },
 "nbformat": 4,
 "nbformat_minor": 2
}
